{
 "cells": [
  {
   "cell_type": "markdown",
   "id": "48f42d08",
   "metadata": {},
   "source": [
    "# Setup"
   ]
  },
  {
   "cell_type": "code",
   "execution_count": 51,
   "id": "1af06af2",
   "metadata": {},
   "outputs": [],
   "source": [
    "from pathlib import Path\n",
    "\n",
    "import kuzu\n",
    "import networkx as nx\n",
    "import pandas as pd\n",
    "\n",
    "import graph.visualization as vis\n",
    "from shared.settings import LOCAL_DIR, env"
   ]
  },
  {
   "cell_type": "code",
   "execution_count": 2,
   "id": "35204d36",
   "metadata": {},
   "outputs": [],
   "source": [
    "db_path = Path(LOCAL_DIR) / env.str(\"ECON_COMP_GRAPH_DB\")\n",
    "assert db_path.exists(), \"You need to create the graph DB using dlctl first\""
   ]
  },
  {
   "cell_type": "code",
   "execution_count": 3,
   "id": "a5ab8bfa",
   "metadata": {},
   "outputs": [],
   "source": [
    "db = kuzu.Database(db_path)\n",
    "conn = kuzu.Connection(db)"
   ]
  },
  {
   "cell_type": "markdown",
   "id": "01a51df3",
   "metadata": {},
   "source": [
    "# Analysis"
   ]
  },
  {
   "cell_type": "markdown",
   "id": "51a9caaf",
   "metadata": {},
   "source": [
    "## Top 10 Dominating Economies"
   ]
  },
  {
   "cell_type": "code",
   "execution_count": 68,
   "id": "1ef0696d",
   "metadata": {},
   "outputs": [],
   "source": [
    "result = conn.execute(\n",
    "    \"\"\"\n",
    "    MATCH (c:Country)\n",
    "    RETURN c, c.country_name_short AS country_name_short\n",
    "    ORDER BY c.con_score DESC\n",
    "    LIMIT 10\n",
    "    \"\"\"\n",
    ")"
   ]
  },
  {
   "cell_type": "code",
   "execution_count": 69,
   "id": "0ec74106",
   "metadata": {},
   "outputs": [
    {
     "data": {
      "text/html": [
       "<div>\n",
       "<style scoped>\n",
       "    .dataframe tbody tr th:only-of-type {\n",
       "        vertical-align: middle;\n",
       "    }\n",
       "\n",
       "    .dataframe tbody tr th {\n",
       "        vertical-align: top;\n",
       "    }\n",
       "\n",
       "    .dataframe thead th {\n",
       "        text-align: right;\n",
       "    }\n",
       "</style>\n",
       "<table border=\"1\" class=\"dataframe\">\n",
       "  <thead>\n",
       "    <tr style=\"text-align: right;\">\n",
       "      <th></th>\n",
       "      <th>country_name_short</th>\n",
       "    </tr>\n",
       "    <tr>\n",
       "      <th>rank</th>\n",
       "      <th></th>\n",
       "    </tr>\n",
       "  </thead>\n",
       "  <tbody>\n",
       "    <tr>\n",
       "      <th>1</th>\n",
       "      <td>United States of America</td>\n",
       "    </tr>\n",
       "    <tr>\n",
       "      <th>2</th>\n",
       "      <td>Canada</td>\n",
       "    </tr>\n",
       "    <tr>\n",
       "      <th>3</th>\n",
       "      <td>United Arab Emirates</td>\n",
       "    </tr>\n",
       "    <tr>\n",
       "      <th>4</th>\n",
       "      <td>Netherlands</td>\n",
       "    </tr>\n",
       "    <tr>\n",
       "      <th>5</th>\n",
       "      <td>United Kingdom</td>\n",
       "    </tr>\n",
       "    <tr>\n",
       "      <th>6</th>\n",
       "      <td>Belgium</td>\n",
       "    </tr>\n",
       "    <tr>\n",
       "      <th>7</th>\n",
       "      <td>Italy</td>\n",
       "    </tr>\n",
       "    <tr>\n",
       "      <th>8</th>\n",
       "      <td>Spain</td>\n",
       "    </tr>\n",
       "    <tr>\n",
       "      <th>9</th>\n",
       "      <td>France</td>\n",
       "    </tr>\n",
       "    <tr>\n",
       "      <th>10</th>\n",
       "      <td>Thailand</td>\n",
       "    </tr>\n",
       "  </tbody>\n",
       "</table>\n",
       "</div>"
      ],
      "text/plain": [
       "            country_name_short\n",
       "rank                          \n",
       "1     United States of America\n",
       "2                       Canada\n",
       "3         United Arab Emirates\n",
       "4                  Netherlands\n",
       "5               United Kingdom\n",
       "6                      Belgium\n",
       "7                        Italy\n",
       "8                        Spain\n",
       "9                       France\n",
       "10                    Thailand"
      ]
     },
     "execution_count": 69,
     "metadata": {},
     "output_type": "execute_result"
    }
   ],
   "source": [
    "dom_econ_df = result.get_as_df()[[\"country_name_short\"]]\n",
    "dom_econ_df.index = pd.RangeIndex(start=1, stop=len(dom_econ_df) + 1, name=\"rank\")\n",
    "dom_econ_df"
   ]
  },
  {
   "cell_type": "code",
   "execution_count": 70,
   "id": "c8030777",
   "metadata": {},
   "outputs": [
    {
     "data": {
      "image/png": "[encoded data removed]",
      "text/plain": [
       "<Figure size 800x500 with 1 Axes>"
      ]
     },
     "metadata": {},
     "output_type": "display_data"
    },
    {
     "data": {
      "text/plain": [
       "<Axes: >"
      ]
     },
     "execution_count": 70,
     "metadata": {},
     "output_type": "execute_result"
    }
   ],
   "source": [
    "dom_econ_g = result.get_as_networkx()\n",
    "vis.plot(dom_econ_g, label=\"country_name_short\")"
   ]
  }
 ],
 "metadata": {
  "kernelspec": {
   "display_name": ".venv",
   "language": "python",
   "name": "python3"
  },
  "language_info": {
   "codemirror_mode": {
    "name": "ipython",
    "version": 3
   },
   "file_extension": ".py",
   "mimetype": "text/x-python",
   "name": "python",
   "nbconvert_exporter": "python",
   "pygments_lexer": "ipython3",
   "version": "3.13.3"
  }
 },
 "nbformat": 4,
 "nbformat_minor": 5
}
